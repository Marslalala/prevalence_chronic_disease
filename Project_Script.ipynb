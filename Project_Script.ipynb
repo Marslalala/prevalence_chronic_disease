{
 "cells": [
  {
   "cell_type": "code",
   "execution_count": null,
   "id": "ed9c096d-e059-4fd9-8099-8b252dd4ff31",
   "metadata": {
    "tags": []
   },
   "outputs": [],
   "source": [
    "import numpy as np\n",
    "import pandas as pd\n",
    "import matplotlib.pyplot as plt\n",
    "import seaborn as sns\n",
    "import plotly.express as px\n",
    "\n",
    "from sklearn.preprocessing import OneHotEncoder\n",
    "from sklearn.model_selection import train_test_split"
   ]
  },
  {
   "cell_type": "markdown",
   "id": "c31d8858-e4d8-4517-8ee4-5a9779e09426",
   "metadata": {},
   "source": [
    "# Data Preprocessing"
   ]
  },
  {
   "cell_type": "markdown",
   "id": "e2767b55-0ed8-47d1-9df3-66fd4185d813",
   "metadata": {},
   "source": [
    "## Preparation"
   ]
  },
  {
   "cell_type": "code",
   "execution_count": null,
   "id": "0282882e-1723-41c7-b3e9-2f82a989761d",
   "metadata": {
    "tags": []
   },
   "outputs": [],
   "source": [
    "# Load the dataset\n",
    "chronic = pd.read_csv('U.S._Chronic_Disease_Indicators.csv')\n",
    "chronic"
   ]
  },
  {
   "cell_type": "markdown",
   "id": "0195795b-81a4-44d2-bec2-fe36f635c778",
   "metadata": {},
   "source": [
    "## Data Cleaning"
   ]
  },
  {
   "cell_type": "markdown",
   "id": "d8114046-5ea0-4c43-a3f7-635d302cba06",
   "metadata": {},
   "source": [
    "Predictive Question: Predict the crude prevalence of diabetes based on variables such as year, location, and demographic stratifications."
   ]
  },
  {
   "cell_type": "code",
   "execution_count": null,
   "id": "1b1667a9-6279-4f57-a1ce-341441f85194",
   "metadata": {
    "tags": []
   },
   "outputs": [],
   "source": [
    "# Check for missing values in each column\n",
    "for col in chronic.columns:\n",
    "    missing_count = chronic[col].isna().sum()\n",
    "    print(f\"{col}: {missing_count} missing values\")\n",
    "    \n",
    "# Drop redundant columns\n",
    "chronic = chronic.drop(columns=['Response', 'StratificationCategory2', 'Stratification2', 'StratificationCategory3', \n",
    "                                'Stratification3', 'ResponseID', 'StratificationCategoryID2', 'StratificationID2', \n",
    "                                'StratificationCategoryID3', 'StratificationID3', 'Geolocation', 'LocationID', 'TopicID', 'QuestionID', 'DataValueTypeID', 'StratificationCategoryID1', 'StratificationID1', 'YearEnd', 'DataValueAlt'])\n",
    "\n",
    "# Fill the DataValue with the average of LowConfidenceLimit and HighConfidenceLimit\n",
    "for index, row in chronic.iterrows():\n",
    "    if pd.isna(row['DataValue']):\n",
    "        if pd.notna(row['LowConfidenceLimit']) and pd.notna(row['HighConfidenceLimit']):\n",
    "            chronic.at[index, 'DataValue'] = (row['LowConfidenceLimit'] + row['HighConfidenceLimit']) / 2\n",
    "\n",
    "# Delete rows where DataValue is missing and either LowConfidenceLimit or HighConfidenceLimit is missing\n",
    "chronic.dropna(subset=['DataValue', 'LowConfidenceLimit', 'HighConfidenceLimit'], how='any', inplace=True)\n",
    "\n",
    "\n",
    "# Impute missing values from Geolocation with (0, 0), one can also remove those observations if necessary in the later analysis\n",
    "\n",
    "\n",
    "# Remove the footnote columns as they are irrelevant to the analysis\n",
    "chronic = chronic.drop(columns=['DataValueFootnoteSymbol', 'DataValueFootnote', 'LowConfidenceLimit', 'HighConfidenceLimit'])"
   ]
  },
  {
   "cell_type": "code",
   "execution_count": null,
   "id": "bb61a4ee-5174-4fcc-b230-028666dd9bdb",
   "metadata": {
    "tags": []
   },
   "outputs": [],
   "source": [
    "# Final check of the dataset\n",
    "for col in chronic.columns:\n",
    "    missing_count = chronic[col].isna().sum()\n",
    "    print(f\"{col}: {missing_count} missing values\")\n",
    "\n",
    "# There are no missing values in the dataset now. We have 22 columns in the data and 311745 observations in total"
   ]
  },
  {
   "cell_type": "markdown",
   "id": "9a8c8b00-af0d-4e5b-8cec-884bc03d8b1c",
   "metadata": {},
   "source": [
    "## Preprocessing"
   ]
  },
  {
   "cell_type": "code",
   "execution_count": null,
   "id": "d00c3c02-1cc4-408f-bc1a-d256d114795c",
   "metadata": {
    "tags": []
   },
   "outputs": [],
   "source": [
    "# Filtering the data\n",
    "diabetes_df = chronic[(chronic['Question'] == 'Diabetes among adults') & (chronic['DataValueType'] == 'Crude Prevalence')]\n",
    "obesity_df = chronic[(chronic['Question'] == 'Obesity among adults') & (chronic['DataValueType'] == 'Crude Prevalence')]\n",
    "\n",
    "# Dropping rows where the target variable 'DataValue' is missing\n",
    "diabetes_df = diabetes_df.dropna(subset=['DataValue'])\n",
    "obesity_df = obesity_df.dropna(subset=['DataValue'])\n",
    "\n",
    "# Add Obesity Crude Prevalence to the dataset\n",
    "df = pd.merge(diabetes_df, obesity_df, on=['YearStart', 'LocationAbbr', 'StratificationCategory1', 'Stratification1'], how='inner')\n",
    "df.rename(columns={'DataValue_y': 'Obesity', 'DataValue_x': 'Target'}, inplace=True)\n",
    "\n",
    "\n",
    "# Selecting features for the model\n",
    "features = df[['YearStart', 'LocationAbbr', 'StratificationCategory1', 'Stratification1', 'Obesity']]\n",
    "\n",
    "# Encoding categorical data\n",
    "encoder = OneHotEncoder(sparse_output=False)\n",
    "encoded_features = encoder.fit_transform(features[['LocationAbbr', 'StratificationCategory1', 'Stratification1']])\n",
    "\n",
    "# Including the numerical feature 'YearStart' and 'Obesity' after reshaping it for concatenation\n",
    "year_data = features['YearStart'].values.reshape(-1, 1)\n",
    "obesity_data = features['Obesity'].values.reshape(-1, 1)\n",
    "final_features = np.concatenate([year_data, obesity_data, encoded_features], axis=1)\n",
    "\n",
    "# Get the final dataset for analysis\n",
    "feature_names = ['YearStart'] + ['Obesity'] + list(encoder.get_feature_names_out(['LocationAbbr', 'StratificationCategory1', 'Stratification1']))\n",
    "X = pd.DataFrame(final_features, columns=feature_names)\n",
    "y = df['Target']\n",
    "y = y.reset_index(drop=True).to_frame()\n",
    "\n",
    "# Check for missing values\n",
    "print(f'There are {X.isnull().sum().sum()} missing values')"
   ]
  },
  {
   "cell_type": "markdown",
   "id": "7980f711-ce62-4b33-9838-1f219465e73a",
   "metadata": {},
   "source": [
    "# EDA"
   ]
  },
  {
   "cell_type": "markdown",
   "id": "0fc54595-a659-4aab-861b-35fc78fcd82f",
   "metadata": {},
   "source": [
    "## Summary Statistics"
   ]
  },
  {
   "cell_type": "code",
   "execution_count": null,
   "id": "5c435cd0-34f3-4afc-adfd-801700faea42",
   "metadata": {
    "tags": []
   },
   "outputs": [],
   "source": [
    "chronic.info()\n",
    "# We have 22 columns in the data and 311745 observations in total\n",
    "\n",
    "summary_stats = chronic.describe()\n",
    "print(summary_stats)\n",
    "\n",
    "# Check the number of different topics and questions\n",
    "topics = chronic['Topic'].unique()\n",
    "print(topics)\n",
    "questions = chronic['Question'].unique()\n",
    "print(questions)\n",
    "\n",
    "# There are 19 topics and 109 questions\n",
    "# Split the dataset by topic for further analysis\n",
    "\n",
    "# Dictionary to hold the split DataFrames\n",
    "topic_dataframes = {}\n",
    "\n",
    "for topic in topics:\n",
    "    topic_dataframes[f'{topic}_data'] = chronic[chronic['Topic'] == topic]"
   ]
  },
  {
   "cell_type": "markdown",
   "id": "9d7d7b67-8f9b-439b-9675-a79d3238b6d3",
   "metadata": {},
   "source": [
    "## Visualizations"
   ]
  },
  {
   "cell_type": "markdown",
   "id": "82a7bafe-8284-4f4d-bebe-f9d4d2c88de6",
   "metadata": {},
   "source": [
    "What is the rank of chronic disease in the U.S. with crude prevalence?"
   ]
  },
  {
   "cell_type": "code",
   "execution_count": null,
   "id": "3758b269-2c79-4b90-93f6-dd5139100c08",
   "metadata": {
    "tags": []
   },
   "outputs": [],
   "source": [
    "# Define the questions and their simplified names\n",
    "questions = {\n",
    "    \"Diabetes among adults\": \"Diabetes\",\n",
    "    \"High cholesterol among adults who have been screened\": \"High Cholesterol\",\n",
    "    \"High blood pressure among adults\": \"High Blood Pressure\",\n",
    "    \"Depression among adults\": \"Depression\",\n",
    "    \"Current asthma among adults\": \"Asthma\",\n",
    "    \"Arthritis among adults\": \"Arthritis\",\n",
    "    \"Obesity among adults\": \"Obesity\"\n",
    "}\n",
    "\n",
    "# Calculating the mean DataValue for each condition\n",
    "mean_values = {}\n",
    "for question, simple_name in questions.items():\n",
    "    mean_value = chronic[\n",
    "        (chronic['Question'] == question) &\n",
    "        (chronic['StratificationCategory1'] == 'Overall') &\n",
    "        (chronic['DataValueType'] == 'Crude Prevalence')\n",
    "    ]['DataValue'].astype(float).mean()  # Convert DataValue to float before calculating mean\n",
    "    mean_values[simple_name] = mean_value\n",
    "\n",
    "# Create a DataFrame from the dictionary\n",
    "common_diseases_prevalence = pd.DataFrame(list(mean_values.items()), columns=['Disease', 'Average Prevalence'])\n",
    "\n",
    "# Sort the DataFrame by 'Average Prevalence' in descending order\n",
    "common_diseases_prevalence = common_diseases_prevalence.sort_values(by='Average Prevalence', ascending=False)\n",
    "\n",
    "# Create an interactive bar chart with adjusted size and appearance\n",
    "fig = px.bar(common_diseases_prevalence, x='Disease', y='Average Prevalence', title='Average Prevalence of Chronic Diseases Among Adults',\n",
    "             labels={'Average Prevalence': 'Prevalence (%)'},\n",
    "             color='Disease',  # Color by disease for better visualization\n",
    "             barmode='group')\n",
    "\n",
    "# Adjusting the layout for a larger view\n",
    "fig.update_layout(\n",
    "    title={'text': \"Average Prevalence of Chronic Diseases Among Adults\", 'x':0.5, 'xanchor': 'center'},\n",
    "    template='plotly_white',\n",
    "    autosize=False,\n",
    "    width=800,\n",
    "    height=600,\n",
    "    font=dict(\n",
    "        family=\"Courier New, monospace\",\n",
    "        size=14,\n",
    "        color=\"RebeccaPurple\"\n",
    "    )\n",
    ")\n",
    "\n",
    "fig.show()"
   ]
  },
  {
   "cell_type": "markdown",
   "id": "44c94f90-a5f9-4900-ae92-785aa725a6f1",
   "metadata": {},
   "source": [
    "The above plot highlights that the three most prevalent conditions are high cholesterol, high blood pressure, and obesity. Given our domain knowledge, these conditions significantly contribute to diabetes. Yet, the crude prevalence of diabetes is notably lower compared to these other diseases. Consequently, this prompts further investigation into the underlying factors influencing diabetes crude prevalence in the U.S., as well as the development of predictive analyses based on this data."
   ]
  },
  {
   "cell_type": "markdown",
   "id": "91ac2598-1f7f-4b3a-b676-11709a7c2ae6",
   "metadata": {},
   "source": [
    "What is the distribution of diabetes prevalence by state? Assuming the data from 2019 could be the representative."
   ]
  },
  {
   "cell_type": "code",
   "execution_count": null,
   "id": "7d1e2533-4ce5-48a7-b58a-2a3e286b3a29",
   "metadata": {
    "tags": []
   },
   "outputs": [],
   "source": [
    "# Filter data for the year 2019, topic of \"Diabetes among adults\", location in US states only, and stratification by sex\n",
    "Diabetes_Overall_2019 = chronic[\n",
    "    (chronic['YearStart'] == 2019) &\n",
    "\n",
    "    (chronic['Question'] == 'Diabetes among adults') &\n",
    "    (chronic['DataSource']) &\n",
    "    (chronic['StratificationCategory1'] == 'Overall') &\n",
    "    (chronic['DataValueType'] == 'Crude Prevalence')\n",
    "]\n",
    "\n",
    "\n",
    "# Drop rows with missing 'DataValue' as they cannot be plotted\n",
    "Diabetes_Overall_2019 = Diabetes_Overall_2019.dropna(subset=['DataValue'])\n",
    "\n",
    "# Convert DataValue to float for plotting\n",
    "Diabetes_Overall_2019['DataValue'] = Diabetes_Overall_2019['DataValue'].astype(float)\n",
    "\n",
    "# Plotting the map using Plotly Express\n",
    "fig = px.choropleth(\n",
    "    Diabetes_Overall_2019,\n",
    "    locations='LocationAbbr',\n",
    "    locationmode='USA-states',\n",
    "    color='DataValue',\n",
    "    color_continuous_scale='Viridis',\n",
    "    scope='usa',\n",
    "    labels={'DataValue': 'Crude Prevalence (%)'},\n",
    "    title='2019 Crude Overall Diabetes Prevalence in USA States',\n",
    "    hover_name='LocationDesc',\n",
    "    hover_data={'Stratification1': True, 'DataValue': True},\n",
    "    range_color = [6, 17]\n",
    ")\n",
    "\n",
    "fig.update_layout(margin={\"r\":0,\"t\":30,\"l\":0,\"b\":0})\n",
    "fig.show()\n",
    "Diabetes_Overall_2019['DataValue'].min(), Diabetes_Overall_2019['DataValue'].max()"
   ]
  },
  {
   "cell_type": "markdown",
   "id": "8826bc2b-d7ea-48de-8204-58b39734e1b0",
   "metadata": {},
   "source": [
    "The map displayed above indicates that the crude prevalence of diabetes exceeds 14% in three states: West Virginia (15.7%), Mississippi (14.8%), and Alabama (14%). In contrast, states such as Colorado (7%) and Montana (7.6%) exhibit relatively lower prevalence rates. There is a discernible regional trend, with states in the Eastern and Southeastern U.S. demonstrating higher crude prevalence rates, whereas Northern and Western states generally show lower rates. This regional disparity may be attributed to a variety of factors, including differences in lifestyle, socioeconomic status, access to healthcare, and possibly environmental influences such as weather conditions. Further analysis is needed to understand the complex interplay of these factors and their impact on diabetes prevalence across different states."
   ]
  },
  {
   "cell_type": "markdown",
   "id": "2d0b02b7-63b8-47b1-b7bc-2bb0eae9e128",
   "metadata": {},
   "source": [
    "What is the distribution of diabetes prevalence by race?"
   ]
  },
  {
   "cell_type": "code",
   "execution_count": null,
   "id": "96db3339-d70a-46dc-86b7-6a43a29295f7",
   "metadata": {
    "tags": []
   },
   "outputs": [],
   "source": [
    "# Filter data for diabetes prevalence by race, irrespective of state\n",
    "Diabetes_By_Race = chronic[\n",
    "    (chronic['Question'] == 'Diabetes among adults') &\n",
    "    (chronic['StratificationCategory1'] == 'Race/Ethnicity') &  # Assuming the correct category name\n",
    "    (chronic['DataValueType'] == 'Crude Prevalence')\n",
    "].copy()  # Add .copy() here to explicitly make a copy of the filtered data\n",
    "\n",
    "# Convert 'DataValue' to float for numerical operations\n",
    "Diabetes_By_Race['DataValue'] = pd.to_numeric(Diabetes_By_Race['DataValue'], errors='coerce')\n",
    "\n",
    "# Plotting the boxplot using Plotly Express\n",
    "fig = px.box(\n",
    "    Diabetes_By_Race,\n",
    "    x='Stratification1',  # This should correspond to the race/ethnicity\n",
    "    y='DataValue',\n",
    "    labels={'DataValue': 'Crude Prevalence (%)', 'Stratification1': 'Race/Ethnicity'},\n",
    "    title='Diabetes Prevalence by Race',\n",
    "    color='Stratification1',  # Color by race/ethnicity\n",
    "    category_orders={\"Stratification1\": Diabetes_By_Race['Stratification1'].unique().tolist()}  # Ensure the order is consistent\n",
    ")\n",
    "\n",
    "fig.update_layout(\n",
    "    xaxis_title=\"Race/Ethnicity\",\n",
    "    yaxis_title=\"Diabetes Prevalence (%)\",\n",
    "    coloraxis_colorbar={\n",
    "        'title': 'Prevalence %'\n",
    "    },\n",
    "    margin={\"r\":0,\"t\":50,\"l\":0,\"b\":0}\n",
    ")\n",
    "\n",
    "fig.show()"
   ]
  },
  {
   "cell_type": "markdown",
   "id": "a6925eb7-ccb0-4ec2-8d4c-5e923f6a90de",
   "metadata": {
    "tags": []
   },
   "source": [
    " - The median prevalence of diabetes is highest among the American Indian or Alaska Native, non-Hispanic group, with a median percentage 17.6%. This group also shows the widest interquartile range (IQR), indicating considerable variation within this population.\n",
    " - The non-Hispanic Black population has the second-highest median prevalence, which is just above 15%, with a narrower IQR compared to the American Indian or Alaska Native group, suggesting less variability.\n",
    " - Hispanic individuals exhibit a median prevalence slightly lower than non-Hispanic Black individuals but have a comparable IQR.\n",
    " - The non-Hispanic White and Multiracial groups have lower median prevalence rates, both around the 10% mark, with Multiracial individuals displaying slightly more variation.\n",
    " - Non-Hispanic Asian and non-Hispanic Hawaiian or Pacific Islander populations have the lowest median diabetes prevalence, which is 10.05%.\n",
    " - Outliers are present in most groups, indicating that there are subpopulations with prevalence rates significantly different from the main group. These are especially notable in the American Indian or Alaska Native, non-Hispanic group.\n",
    " \n",
    "\n",
    "In conclusion, the prevalence of diabetes differs across race/ethnicity categories, with American Indian or Alaska Native, non-Hispanic individuals being the most affected and Asian, non-Hispanic and Hawaiian or Pacific Islander, non-Hispanic individuals being the least affected. The data suggests that racial and ethnic factors may influence the prevalence of diabetes, which can be crucial for targeted healthcare interventions."
   ]
  },
  {
   "cell_type": "markdown",
   "id": "2b79e0b8-654f-42da-b2c0-85d2277bca3f",
   "metadata": {},
   "source": [
    "What is the trend of diabetes prevalence over males by states? Assuming the data from 2019 could be the representative."
   ]
  },
  {
   "cell_type": "code",
   "execution_count": null,
   "id": "46281a92-8564-4559-9e80-991a2089b465",
   "metadata": {
    "tags": []
   },
   "outputs": [],
   "source": [
    "Diabetes_Male_2019 = chronic[\n",
    "    (chronic['YearStart'] == 2019) &\n",
    "\n",
    "    (chronic['Question'] == 'Diabetes among adults') &\n",
    "\n",
    "    (chronic['DataSource']) &\n",
    "    (chronic['StratificationCategory1'] == 'Sex') &\n",
    "    (chronic['Stratification1'] == 'Male') &\n",
    "    (chronic['DataValueType'] == 'Crude Prevalence')\n",
    "]\n",
    "\n",
    "# Plotting the bar chart using Plotly Express\n",
    "fig = px.bar(\n",
    "    Diabetes_Male_2019.sort_values('DataValue'),  # Sort values for better visualization\n",
    "    x='LocationDesc',  # Use the full location description for clarity\n",
    "    y='DataValue',\n",
    "    labels={'DataValue': 'Crude Prevalence (%)'},\n",
    "    title='2019 Crude Diabetes Prevalence of Male in USA States',\n",
    "    color='DataValue',  # Color the bars by the data value\n",
    "    color_continuous_scale='Viridis',  # Maintain the same color scale for consistency\n",
    "    hover_data=['LocationAbbr', 'DataValue']\n",
    ")\n",
    "\n",
    "fig.update_layout(\n",
    "    xaxis_title=\"State\",\n",
    "    yaxis_title=\"Diabetes Prevalence (%)\",\n",
    "    xaxis={'categoryorder':'total descending'},  # Optional: to ensure bars are sorted by value\n",
    "    coloraxis_colorbar={\n",
    "        'title': 'Prevalence %'\n",
    "    },\n",
    "    margin={\"r\":0,\"t\":30,\"l\":0,\"b\":0}\n",
    ")\n",
    "\n",
    "fig.show()"
   ]
  },
  {
   "cell_type": "markdown",
   "id": "4a07f8b6-f435-4ed7-a392-2284e2e7da33",
   "metadata": {},
   "source": [
    "We can see Puerto Rico and West Virginia exhibit the highest prevalence rates, surpassing 16%, which significantly stands out. This high prevalence suggests a critical public health concern in these regions. Following these, a descending trend is evident, with several states like Tennessee, Alabama, and Kentucky also showing notably high rates, above 13%.\n",
    "\n",
    "As the bars transition from green to blue, indicating lower prevalence, we see states such as Hawaii, Nevada, and Georgia hovering around the 11% mark. This gradual decrease continues with states like Idaho, California, and Connecticut displaying even lower prevalence rates, falling below 11%. The lowest prevalence rates are observed in Alaska and the District of Columbia, both of which are below 9%.\n",
    "\n",
    "Assuming the data from 2019 is representative, the plot suggests a significant variation in diabetes prevalence among males at the state level. "
   ]
  },
  {
   "cell_type": "markdown",
   "id": "1d3c3f20-bdd6-4e0e-9cfd-323ba9eac9df",
   "metadata": {},
   "source": [
    "What is the trend of diabetes prevalence over females by states? Assuming the data from 2019 could be the representative."
   ]
  },
  {
   "cell_type": "code",
   "execution_count": null,
   "id": "c2b10b38-d290-4161-a7f3-bf3f488a29ae",
   "metadata": {
    "tags": []
   },
   "outputs": [],
   "source": [
    "Diabetes_Female_2019 = chronic[\n",
    "    (chronic['YearStart'] == 2019) &\n",
    "\n",
    "    (chronic['Question'] == 'Diabetes among adults') &\n",
    "\n",
    "    (chronic['DataSource']) &\n",
    "    (chronic['StratificationCategory1'] == 'Sex') &\n",
    "    (chronic['Stratification1'] == 'Female') &\n",
    "    (chronic['DataValueType'] == 'Crude Prevalence')\n",
    "]\n",
    "\n",
    "# Plotting the bar chart using Plotly Express\n",
    "fig = px.bar(\n",
    "    Diabetes_Female_2019.sort_values('DataValue'),  # Sort values for better visualization\n",
    "    x='LocationDesc',  # Use the full location description for clarity\n",
    "    y='DataValue',\n",
    "    labels={'DataValue': 'Crude Prevalence (%)'},\n",
    "    title='2019 Crude Diabetes Prevalence of Female in USA States',\n",
    "    color='DataValue',  # Color the bars by the data value\n",
    "    color_continuous_scale='Viridis',  # Maintain the same color scale for consistency\n",
    "    hover_data=['LocationAbbr', 'DataValue']\n",
    ")\n",
    "\n",
    "fig.update_layout(\n",
    "    xaxis_title=\"State\",\n",
    "    yaxis_title=\"Diabetes Prevalence (%)\",\n",
    "    xaxis={'categoryorder':'total descending'},  # Optional: to ensure bars are sorted by value\n",
    "    coloraxis_colorbar={\n",
    "        'title': 'Prevalence %'\n",
    "    },\n",
    "    margin={\"r\":0,\"t\":30,\"l\":0,\"b\":0}\n",
    ")\n",
    "\n",
    "fig.show()"
   ]
  },
  {
   "cell_type": "markdown",
   "id": "0c786681-b5bf-444a-a9fb-2c9a959d930a",
   "metadata": {},
   "source": [
    "Similar to the trends observed in males, the chart indicates significant geographical disparities in diabetes prevalence. Puerto Rico stands out with the highest prevalence, well above 17%, while Mississippi emerges as the second-highest, suggesting that these areas may require targeted public health interventions for women.\n",
    "\n",
    "Descending from these peaks, states like West Virginia, Tennessee, and Arkansas also show high prevalence rates, exceeding 13%. The prevalence rates gradually taper off through states like Delaware, Texas, and Ohio, with these states hovering around the 11% mark.\n",
    "\n",
    "As we move towards states represented in blue, such as Idaho, Hawaii, and Iowa, the prevalence continues to decrease, falling below 10%. The trend extends to the lowest rates observed in North Dakota, Wyoming, and Colorado, with Colorado showing the lowest prevalence among females, under 7%.\n",
    "\n",
    "This trend for females, while displaying some variations, is generally similar to that observed in males, underscoring the pervasiveness of diabetes across both genders. "
   ]
  },
  {
   "cell_type": "markdown",
   "id": "33a8b76d-8afe-4ff5-b405-21c185d26b6b",
   "metadata": {},
   "source": [
    " What is the trend of diabetes prevalence over years"
   ]
  },
  {
   "cell_type": "code",
   "execution_count": null,
   "id": "3ae4344e-a3dc-43d5-8c11-5fabe1025fe7",
   "metadata": {
    "tags": []
   },
   "outputs": [],
   "source": [
    "# Filter the data for diabetes prevalence\n",
    "diabetes_data = chronic[\n",
    "    (chronic['Question'] == 'Diabetes among adults') &\n",
    "    (chronic['DataValueType'] == 'Crude Prevalence')\n",
    "].copy()  # Make a copy to avoid the SettingWithCopyWarning\n",
    "\n",
    "# Convert 'DataValue' to float for numerical operations\n",
    "diabetes_data['DataValue'] = pd.to_numeric(diabetes_data['DataValue'], errors='coerce')\n",
    "\n",
    "# Group by year and calculate the mean prevalence\n",
    "diabetes_trend = diabetes_data.groupby('YearStart')['DataValue'].mean().reset_index()\n",
    "\n",
    "# Create a line chart to visualize the trend of diabetes prevalence over years\n",
    "fig = px.line(diabetes_trend, x='YearStart', y='DataValue', title='Trend of Diabetes Prevalence Over Years',\n",
    "              labels={'YearStart': 'Year', 'DataValue': 'Diabetes Prevalence (%)'},\n",
    "              markers=True)  # Adding markers for clarity\n",
    "\n",
    "# Enhance the layout and aesthetics\n",
    "fig.update_layout(\n",
    "    plot_bgcolor='white',\n",
    "    xaxis=dict(\n",
    "        title='Year',\n",
    "        showline=True,\n",
    "        showgrid=False,\n",
    "        showticklabels=True,\n",
    "        linecolor='black',\n",
    "        linewidth=2,\n",
    "        ticks='outside',\n",
    "        tickfont=dict(\n",
    "            family='Arial',\n",
    "            size=12,\n",
    "            color='black'\n",
    "        ),\n",
    "        tickmode='linear',  # Set tick mode to linear for consistent intervals\n",
    "        tick0=diabetes_trend['YearStart'].min(),  # Start ticks from the first year\n",
    "        dtick=1  # Set one tick per year\n",
    "    ),\n",
    "    yaxis=dict(\n",
    "        title='Average Prevalence (%)',\n",
    "        showgrid=True,\n",
    "        gridcolor='gray',\n",
    "        showline=True,\n",
    "        linewidth=2,\n",
    "        linecolor='black',\n",
    "        tickfont=dict(\n",
    "            family='Arial',\n",
    "            size=12,\n",
    "            color='black'\n",
    "        ),\n",
    "        range=[10, 15]  # Custom range for the y-axis to make changes less dramatic\n",
    "    ),\n",
    "    title={\n",
    "        'text': 'Trend of Diabetes Prevalence Over Years',\n",
    "        'y':0.9,\n",
    "        'x':0.5,\n",
    "        'xanchor': 'center',\n",
    "        'yanchor': 'top'},\n",
    "    font=dict(\n",
    "        family=\"Courier New, monospace\",\n",
    "        size=12,\n",
    "        color=\"RebeccaPurple\"\n",
    "    )\n",
    ")\n",
    "\n",
    "fig.show()"
   ]
  },
  {
   "cell_type": "markdown",
   "id": "d4ab6406-1d67-4c10-a568-1fb236a129c2",
   "metadata": {
    "tags": []
   },
   "source": [
    "To elucidate the trend in diabetes prevalence from the visual data provided, it can be observed that the average prevalence of diabetes remained relatively stable at approximately 12.2% from 2019 to 2021. However, there was a notable increase to around 13.1% from 2021 to 2022. This uptick may be attributable to a multitude of factors including, but not limited to, changes in diagnostic criteria, heightened awareness and screening for diabetes, alterations in lifestyle or environmental factors, and potentially the impacts of the COVID-19 pandemic on health behaviors and access to care. "
   ]
  },
  {
   "cell_type": "markdown",
   "id": "c298ef51-69a8-4d9e-b95e-42a6b414b3c9",
   "metadata": {},
   "source": [
    "What is the distribution of diabetes prevalence by age group?"
   ]
  },
  {
   "cell_type": "code",
   "execution_count": null,
   "id": "f8971c03-ae56-4015-bf21-2a41a389327f",
   "metadata": {
    "tags": []
   },
   "outputs": [],
   "source": [
    "# Filter data for diabetes-related questions specifically for adults\n",
    "diabetes_data = chronic[(chronic['Question'] == 'Diabetes among adults')]\n",
    "\n",
    "# Extract relevant columns for further analysis\n",
    "diabetes_trends = diabetes_data[['YearStart', 'DataValue', 'Stratification1']]\n",
    "\n",
    "# Filter out only the age-specific groups\n",
    "age_specific_data = diabetes_trends[diabetes_trends['Stratification1'].isin(['Age 18-44', 'Age 45-64', 'Age >=65'])]\n",
    "\n",
    "# Group the data by Year and Age Group and calculate the mean prevalence\n",
    "age_trend_data = age_specific_data.groupby(['YearStart', 'Stratification1']).mean().unstack()\n",
    "\n",
    "# Prepare data for Plotly by resetting the index\n",
    "age_trend_data_reset = age_trend_data['DataValue'].reset_index()\n",
    "\n",
    "# Melt the DataFrame to fit Plotly's requirements\n",
    "plotly_data = age_trend_data_reset.melt(id_vars='YearStart', var_name='Age Group', value_name='Prevalence')\n",
    "\n",
    "# Create an interactive Plotly graph\n",
    "fig = px.line(plotly_data, x='YearStart', y='Prevalence', color='Age Group',\n",
    "              title='Interactive Trend of Diabetes Prevalence by Age Group',\n",
    "              labels={'Prevalence': 'Diabetes Prevalence (%)', 'YearStart': 'Year'},\n",
    "              markers=True)\n",
    "fig.update_xaxes(dtick=1, tick0=min(plotly_data['YearStart']))\n",
    "# Show the plot\n",
    "fig.show()"
   ]
  },
  {
   "cell_type": "markdown",
   "id": "341abebe-c7e1-401d-be4e-4e5a08ef6013",
   "metadata": {
    "tags": []
   },
   "source": [
    "The trend depicted in the plot aligns with conventional medical understanding that the risk of developing various diseases, including diabetes, escalates with age. Notably, the data indicates that for younger individuals, the crude prevalence of diabetes is consistently over 10% higher than that of the middle-aged population across the observed years. Conversely, for the elderly, the prevalence rate surpasses that of the middle-aged cohort by approximately 7%. These statistics underscore the significance of age as a pivotal determinant in the incidence of diabetes. It's imperative to highlight that while age is a non-modifiable risk factor, this trend reinforces the importance of age-specific healthcare strategies in managing and preventing diabetes."
   ]
  },
  {
   "cell_type": "markdown",
   "id": "4faa5e8f-59be-40f4-ba84-f47d9ec65d69",
   "metadata": {},
   "source": [
    " What is the relationship between obesity prevalence and diabetes prevalence?"
   ]
  },
  {
   "cell_type": "code",
   "execution_count": null,
   "id": "439ff461-af85-4368-9838-9f3193dc515e",
   "metadata": {
    "tags": []
   },
   "outputs": [],
   "source": [
    "# Filter the data for plotting\n",
    "diabetes_pre = y.copy()\n",
    "obesity_pre = pd.Series(X['Obesity'])\n",
    "scatter_df = pd.concat([diabetes_pre, obesity_pre], axis=1)\n",
    "\n",
    "# Create a scatter plot\n",
    "fig = px.scatter(scatter_df, x='Obesity', y='Target', title='Scatter Plot Between Crude Diabetes and Obesity Prevalence')\n",
    "\n",
    "# Customize the plot further if needed\n",
    "fig.update_traces(marker=dict(size=12, line=dict(width=2, color='DarkSlateGrey')))\n",
    "\n",
    "fig.update_layout(\n",
    "    xaxis_title=\"Obesity Prevalence (%)\",\n",
    "    yaxis_title=\"Diabetes Prevalence (%)\",\n",
    "    autosize=False,\n",
    "    width=900,  \n",
    "    height=600  \n",
    ")\n",
    "\n",
    "# Show the plot\n",
    "fig.show()"
   ]
  },
  {
   "cell_type": "markdown",
   "id": "8898a8c0-929f-4e24-b9d4-95f78122c903",
   "metadata": {},
   "source": [
    "The scatterplot above implies there are severl points worth for notice:\n",
    " - There appears to be a positive correlation between obesity prevalence and diabetes prevalence. As the percentage of obesity increases, there is a general trend of increased diabetes prevalence.\n",
    " - The data points are densely clustered in the area where obesity prevalence ranges between approximately 20% and 40%, with the corresponding diabetes prevalence mostly falling between 10% and 20%.\n",
    " - A few outliers can be observed, particularly in the higher ranges of both obesity and diabetes prevalence. These outliers indicate that there may be instances where the prevalence of diabetes is high despite a lower prevalence of obesity, and vice versa.\n",
    " - The trend suggests that while obesity is likely a significant factor in diabetes prevalence, there are other factors at play, given that the relationship is not perfectly linear.\n",
    "\n",
    "\n",
    "In summary, the scatter plot suggests a strong association between obesity and diabetes prevalence, supporting the notion that obesity is one of the risk factors for diabetes. However, the variation in the data also indicates the influence of additional factors contributing to the prevalence of diabetes that merit further investigation."
   ]
  },
  {
   "cell_type": "markdown",
   "id": "91c592e9-d4e9-414f-a337-8f334a1ca7ad",
   "metadata": {},
   "source": [
    "What are the correlations among all numerical variables, including the target variable?"
   ]
  },
  {
   "cell_type": "code",
   "execution_count": null,
   "id": "3a9f7285-cb6f-4ec8-b137-5b0f3beaede5",
   "metadata": {
    "tags": []
   },
   "outputs": [],
   "source": [
    "# Filter the data for plotting\n",
    "corr_df = pd.concat([scatter_df, X['YearStart']], axis=1)\n",
    "\n",
    "# Calculate the correlation matrix\n",
    "corr_matrix = corr_df.corr()\n",
    "\n",
    "# Create a heatmap using Plotly Express\n",
    "fig = px.imshow(\n",
    "    corr_matrix,\n",
    "    text_auto=True,\n",
    "    labels=dict(x=\"Features\", y=\"Features\", color=\"Correlation\"),\n",
    "    x=corr_matrix.columns,\n",
    "    y=corr_matrix.columns,\n",
    "    title=\"Correlation Heatmap of Features\"\n",
    ")\n",
    "\n",
    "fig.update_layout(\n",
    "    autosize=False,\n",
    "    width=700, \n",
    "    height=700 \n",
    ")\n",
    "\n",
    "# Show the plot\n",
    "fig.show()"
   ]
  },
  {
   "cell_type": "markdown",
   "id": "4c3beb1e-4ec8-4fd0-8b1d-7ecdb478491a",
   "metadata": {},
   "source": [
    "The target variable shows a modest positive correlation with obesity, indicated by a correlation coefficient of approximately 0.277. This suggests that as obesity prevalence increases, there is a slight tendency for the target variable to increase as well. However, the correlation is not strong, pointing to the influence of other factors in addition to obesity. There is a negligible correlation between the target variable and the year, as well as between obesity and the year, with coefficients close to 0.059 and 0.089, respectively. This indicates that there is very little to no linear relationship between the year the data was collected and both obesity prevalence and the target variable. The low correlations involving the year suggest that time, as represented by the YearStart variable, does not have a significant linear effect on the prevalence of obesity or the target outcome within the range of years studied."
   ]
  },
  {
   "cell_type": "markdown",
   "id": "316e9616-370a-47c3-bd4a-32ea5caafb7b",
   "metadata": {},
   "source": [
    "Does the distribution of obesity prevalence by state align with diabetes prevalence?"
   ]
  },
  {
   "cell_type": "code",
   "execution_count": null,
   "id": "fef24467-f90a-464a-8b07-ea141cfae108",
   "metadata": {
    "tags": []
   },
   "outputs": [],
   "source": [
    "# Filter data for the year 2019, topic of \"High blood pressure among males\", location in US states only, and stratification by sex\n",
    "Obesity_Overall_2019 = chronic[\n",
    "    (chronic['YearStart'] == 2019) &\n",
    "\n",
    "    (chronic['Question'] == 'Obesity among adults') &\n",
    "    (chronic['DataSource'] == 'BRFSS') &\n",
    "    (chronic['StratificationCategory1'] == 'Overall') &\n",
    "\n",
    "    (chronic['DataValueType'] == 'Crude Prevalence')\n",
    "]\n",
    "\n",
    "\n",
    "\n",
    "# Drop rows with missing 'DataValue' as they cannot be plotted\n",
    "Obesity_Overall_2019 = Obesity_Overall_2019.dropna(subset=['DataValue'])\n",
    "\n",
    "# Convert DataValue to float for plotting\n",
    "Obesity_Overall_2019['DataValue'] = Obesity_Overall_2019['DataValue'].astype(float)\n",
    "\n",
    "# Plotting the map using Plotly Express\n",
    "fig = px.choropleth(\n",
    "    Obesity_Overall_2019,\n",
    "    locations='LocationAbbr',\n",
    "    locationmode='USA-states',\n",
    "    color='DataValue',\n",
    "    color_continuous_scale='Viridis',\n",
    "    scope='usa',\n",
    "    labels={'DataValue': 'Crude Prevalence (%)'},\n",
    "    title='2019 Crude Overall Obesity Prevalence in USA States',\n",
    "    hover_name='LocationDesc',\n",
    "    hover_data={'Stratification1': True, 'DataValue': True},\n",
    "    range_color = [22, 41]\n",
    ")\n",
    "\n",
    "fig.update_layout(margin={\"r\":0,\"t\":30,\"l\":0,\"b\":0})\n",
    "fig.show()"
   ]
  },
  {
   "cell_type": "markdown",
   "id": "9df86090-00ed-4366-8d57-fcc0ccde3c35",
   "metadata": {
    "tags": []
   },
   "source": [
    "The data presents a geographical pattern of obesity prevalence that mirrors the distribution observed for diabetes, with the Western United States showing a relatively lower crude prevalence of obesity, whereas higher rates are seen in the Eastern regions. However, there is an exception noted in Florida, where the prevalence of obesity is unexpectedly lower, deviating from the pattern observed in other Eastern states. Additionally, the Northeast also reports a relatively low crude prevalence of obesity. These variations suggest that regional factors, possibly including lifestyle, cultural influences, and socioeconomic conditions, could be contributing to the differences in obesity rates beyond the simple East-West divide. "
   ]
  },
  {
   "cell_type": "markdown",
   "id": "28286934-37f8-4c33-a7dc-9d51a466ed92",
   "metadata": {},
   "source": [
    "What is the trend of obesity prevalence over males by states? Assuming the data from 2019 could be the representative."
   ]
  },
  {
   "cell_type": "code",
   "execution_count": null,
   "id": "d3687ba6-cbf4-456b-96bd-b18ebc3890cf",
   "metadata": {
    "tags": []
   },
   "outputs": [],
   "source": [
    "Obesity_Male_2019 = chronic[\n",
    "    (chronic['YearStart'] == 2019) &\n",
    "\n",
    "    (chronic['Question'] == 'Obesity among adults') &\n",
    "\n",
    "    (chronic['DataSource']) &\n",
    "    (chronic['StratificationCategory1'] == 'Sex') &\n",
    "    (chronic['Stratification1'] == 'Male') &\n",
    "    (chronic['DataValueType'] == 'Crude Prevalence')\n",
    "]\n",
    "\n",
    "# Plotting the bar chart using Plotly Express\n",
    "fig = px.bar(\n",
    "    Obesity_Male_2019.sort_values('DataValue'),  # Sort values for better visualization\n",
    "    x='LocationDesc',  # Use the full location description for clarity\n",
    "    y='DataValue',\n",
    "    labels={'DataValue': 'Crude Prevalence (%)'},\n",
    "    title='2019 Crude Obesity Prevalence of Male in USA States',\n",
    "    color='DataValue',  # Color the bars by the data value\n",
    "    color_continuous_scale='Viridis',  # Maintain the same color scale for consistency\n",
    "    hover_data=['LocationAbbr', 'DataValue']\n",
    ")\n",
    "\n",
    "fig.update_layout(\n",
    "    xaxis_title=\"State\",\n",
    "    yaxis_title=\"Obesity Prevalence (%)\",\n",
    "    xaxis={'categoryorder':'total descending'},  # Optional: to ensure bars are sorted by value\n",
    "    coloraxis_colorbar={\n",
    "        'title': 'Prevalence %'\n",
    "    },\n",
    "    margin={\"r\":0,\"t\":30,\"l\":0,\"b\":0}\n",
    ")\n",
    "\n",
    "fig.show()"
   ]
  },
  {
   "cell_type": "markdown",
   "id": "e9950a82-0677-4d10-8cbc-f6b39aa15f50",
   "metadata": {
    "tags": []
   },
   "source": [
    "Given the established connection between obesity and diabetes, the states with higher obesity rates, such as West Virginia and Tennessee, also face greater challenges with diabetes management and prevention among their male residents, which we can tell from previous plots. The data underscores the importance of targeted interventions aimed at obesity reduction, which could, in turn, have a beneficial impact on diabetes prevalence rates. These findings also indicate that lifestyle, dietary habits, and healthcare accessibility likely play roles in the varying rates of obesity and consequently diabetes across the states."
   ]
  },
  {
   "cell_type": "markdown",
   "id": "7bd1d25b-26c3-4c75-97c7-639a196aa4bf",
   "metadata": {},
   "source": [
    "What is the trend of obesity prevalence over females by states? Assuming the data from 2019 could be the representative."
   ]
  },
  {
   "cell_type": "code",
   "execution_count": null,
   "id": "6d6f810a-bb9e-4d95-a078-6092d6f4322f",
   "metadata": {
    "tags": []
   },
   "outputs": [],
   "source": [
    "Obesity_Female_2019 = chronic[\n",
    "    (chronic['YearStart'] == 2019) &\n",
    "\n",
    "    (chronic['Question'] == 'Obesity among adults') &\n",
    "\n",
    "    (chronic['DataSource']) &\n",
    "    (chronic['StratificationCategory1'] == 'Sex') &\n",
    "    (chronic['Stratification1'] == 'Female') &\n",
    "    (chronic['DataValueType'] == 'Crude Prevalence')\n",
    "]\n",
    "\n",
    "# Plotting the bar chart using Plotly Express\n",
    "fig = px.bar(\n",
    "    Obesity_Female_2019.sort_values('DataValue'),  # Sort values for better visualization\n",
    "    x='LocationDesc',  # Use the full location description for clarity\n",
    "    y='DataValue',\n",
    "    labels={'DataValue': 'Crude Prevalence (%)'},\n",
    "    title='2019 Crude Obesity Prevalence of Female in USA States',\n",
    "    color='DataValue',  # Color the bars by the data value\n",
    "    color_continuous_scale='Viridis',  # Maintain the same color scale for consistency\n",
    "    hover_data=['LocationAbbr', 'DataValue']\n",
    ")\n",
    "\n",
    "fig.update_layout(\n",
    "    xaxis_title=\"State\",\n",
    "    yaxis_title=\"Obesity Prevalence (%)\",\n",
    "    xaxis={'categoryorder':'total descending'},  # Optional: to ensure bars are sorted by value\n",
    "    coloraxis_colorbar={\n",
    "        'title': 'Prevalence %'\n",
    "    },\n",
    "    margin={\"r\":0,\"t\":30,\"l\":0,\"b\":0}\n",
    ")\n",
    "\n",
    "fig.show()"
   ]
  },
  {
   "cell_type": "markdown",
   "id": "882f336a-56df-4f27-94dd-9fd8befe4d13",
   "metadata": {},
   "source": [
    "When relating this data to diabetes, it is crucial to consider that obesity is a significant risk factor for the condition. The higher obesity prevalence in states like Mississippi and West Virginia suggests these areas might also see higher rates of diabetes among women. The chart underscores the necessity for public health initiatives that address obesity, which may also help mitigate diabetes rates. Additionally, it highlights the importance of addressing the socioeconomic and lifestyle factors that contribute to the disparity in obesity rates between states."
   ]
  },
  {
   "cell_type": "markdown",
   "id": "e2bf3882-f506-4da2-836c-4217b962e772",
   "metadata": {},
   "source": [
    "What is the distribution of obesity prevalence by race?"
   ]
  },
  {
   "cell_type": "code",
   "execution_count": null,
   "id": "a03acc67-2548-43d6-b149-61a2ad1420ef",
   "metadata": {
    "tags": []
   },
   "outputs": [],
   "source": [
    "# Filter data for diabetes prevalence by race, irrespective of state\n",
    "Obesity_By_Race = chronic[\n",
    "    (chronic['Question'] == 'Obesity among adults') &\n",
    "    (chronic['StratificationCategory1'] == 'Race/Ethnicity') &  # Assuming the correct category name\n",
    "    (chronic['DataValueType'] == 'Crude Prevalence')\n",
    "].copy()  # Add .copy() here to explicitly make a copy of the filtered data\n",
    "\n",
    "# Convert 'DataValue' to float for numerical operations\n",
    "Obesity_By_Race['DataValue'] = pd.to_numeric(Obesity_By_Race['DataValue'], errors='coerce')\n",
    "\n",
    "# Plotting the boxplot using Plotly Express\n",
    "fig = px.box(\n",
    "    Obesity_By_Race,\n",
    "    x='Stratification1',  # This should correspond to the race/ethnicity\n",
    "    y='DataValue',\n",
    "    labels={'DataValue': 'Crude Prevalence (%)', 'Stratification1': 'Race/Ethnicity'},\n",
    "    title='Obesity Prevalence by Race',\n",
    "    color='Stratification1',  # Color by race/ethnicity\n",
    "    category_orders={\"Stratification1\": Obesity_By_Race['Stratification1'].unique().tolist()}  # Ensure the order is consistent\n",
    ")\n",
    "\n",
    "fig.update_layout(\n",
    "    xaxis_title=\"Race/Ethnicity\",\n",
    "    yaxis_title=\"Obesity Prevalence (%)\",\n",
    "    coloraxis_colorbar={\n",
    "        'title': 'Prevalence %'\n",
    "    },\n",
    "    margin={\"r\":0,\"t\":50,\"l\":0,\"b\":0}\n",
    ")\n",
    "\n",
    "fig.show()"
   ]
  },
  {
   "cell_type": "markdown",
   "id": "ee3c158e-de84-4e0e-8bf6-4b3deace7e9d",
   "metadata": {},
   "source": [
    " - American Indian or Alaska Native, non-Hispanic individuals exhibit the third highest median obesity prevalence, with values about 39.6%. The distribution for this group also shows a substantial range, indicating varied obesity rates within this population.\n",
    " - Non-Hispanic Black individuals have a median obesity prevalence that is slightly higher than that of the American Indian or Alaska Native group which is the second highest. This group also shows a wide interquartile range (IQR), denoting variability within the population.\n",
    " - Hispanic individuals show a median obesity prevalence in a similar range to that of non-Hispanic Black individuals, with a somewhat narrower IQR, indicating a less varied spread within this demographic.\n",
    " - Non-Hispanic White and Multiracial groups have comparatively lower median obesity prevalence, with Multiracial individuals demonstrating a narrower IQR, suggesting more consistency in obesity rates within this group.\n",
    " - The lowest median obesity prevalence is observed in non-Hispanic Asian with the Asian population showing particularly low variability.\n",
    " - The highest median obesity prevalence is observed in Hawaiian or Pacific Islander groups.\n",
    "\n",
    "\n",
    "When connecting these findings to diabetes, it's important to consider that obesity is a known risk factor for developing diabetes. The groups with higher obesity prevalence — such as Hawaiian or Pacific Islander, non-Hispanic or Alaska Native and non-Hispanic Black populations — could be at a correspondingly higher risk for diabetes. This is consistent with the earlier scatter plot analysis, which indicated a positive correlation between obesity and diabetes prevalence. The data suggests that targeted interventions to reduce obesity in these high-prevalence groups could also impact diabetes prevalence and overall public health outcomes."
   ]
  },
  {
   "cell_type": "markdown",
   "id": "aa02a4e7-60d7-41b2-8b39-d4bc88729a4c",
   "metadata": {},
   "source": [
    "Among different age groups, what is the distribution of diabetes prevalence by gender?"
   ]
  },
  {
   "cell_type": "code",
   "execution_count": null,
   "id": "436096ea-dc43-41e0-b244-7a611a8c429b",
   "metadata": {
    "tags": []
   },
   "outputs": [],
   "source": [
    "# Filter the data for entries related to diabetes\n",
    "diabetes_data = chronic[chronic['Question'] == 'Diabetes among adults']\n",
    "\n",
    "# Further filter data to ensure it includes gender and age stratifications\n",
    "diabetes_data = diabetes_data[diabetes_data['StratificationCategory1'].isin(['Sex', 'Age'])]\n",
    "\n",
    "# Separate the age and gender data into two different datasets\n",
    "age_data = diabetes_data[diabetes_data['StratificationCategory1'] == 'Age']\n",
    "sex_data = diabetes_data[diabetes_data['StratificationCategory1'] == 'Sex']\n",
    "\n",
    "# Merge the two datasets on common keys to align age groups with gender entries\n",
    "merged_data = pd.merge(\n",
    "    age_data, \n",
    "    sex_data, \n",
    "    on=['YearStart', 'LocationAbbr', 'LocationDesc', 'DataSource', 'Topic', 'Question', 'DataValueType'],\n",
    "    suffixes=('_age', '_sex')\n",
    ")\n",
    "\n",
    "# Pivot the table to get a better structure for plotting\n",
    "pivot_table = merged_data.pivot_table(\n",
    "    index='Stratification1_age',\n",
    "    columns='Stratification1_sex',\n",
    "    values='DataValue_sex',\n",
    "    aggfunc='mean'\n",
    ")\n",
    "\n",
    "# Convert the pivot table to a format suitable for Plotly\n",
    "plotly_data = pivot_table.reset_index().melt(id_vars='Stratification1_age', var_name='Gender', value_name='Prevalence')\n",
    "\n",
    "# Create the interactive heatmap\n",
    "fig = px.imshow(\n",
    "    pivot_table,\n",
    "    labels=dict(x=\"Gender\", y=\"Age Group\", color=\"Prevalence (%)\"),\n",
    "    x=pivot_table.columns,\n",
    "    y=pivot_table.index,\n",
    "    text_auto=True,\n",
    "    title=\"Diabetes Prevalence by Gender Across Age Groups\"\n",
    ")\n",
    "\n",
    "fig.update_layout(\n",
    "    autosize=False,\n",
    "    width=800, \n",
    "    height=600 \n",
    ")\n",
    "\n",
    "fig.update_xaxes(side=\"bottom\")\n",
    "fig.show()"
   ]
  },
  {
   "cell_type": "markdown",
   "id": "c0cd15aa-ea2c-4c97-b485-e87e2ec41fed",
   "metadata": {
    "tags": []
   },
   "source": [
    "The heatmap illustrates the prevalence of diabetes across different age groups, segmented by gender. Across all age brackets, males demonstrate a higher prevalence of diabetes than females. Starting with the youngest group, ages 18-44, males show a prevalence of 11.71%, while females are at 10.85%. This pattern is consistent in the 45-64 age range, where males have a prevalence of 11.70% compared to 10.87% in females. The trend continues in the senior population, aged 65 and above, where the prevalence for males is 11.70% and for females, it remains at 10.87%. The heatmap confirms that within each age group, gender is a significant variable, with males consistently showing higher diabetes prevalence rates than females, and it underlines the importance of considering gender differences in diabetes risk assessments and prevention strategies."
   ]
  },
  {
   "cell_type": "markdown",
   "id": "a10cdd28-c520-447d-8d1b-37edac42e996",
   "metadata": {},
   "source": [
    "Among different ethnicity groups, what is the distribution of diabetes prevalence by gender?"
   ]
  },
  {
   "cell_type": "code",
   "execution_count": null,
   "id": "edc8a200-cfc2-4f30-bf48-093a5c073ab7",
   "metadata": {
    "tags": []
   },
   "outputs": [],
   "source": [
    "# Filter the data for entries related to diabetes\n",
    "diabetes_data = chronic[chronic['Question'] == 'Diabetes among adults']\n",
    "\n",
    "# Further filter data to ensure it includes gender and age stratifications\n",
    "diabetes_data = diabetes_data[diabetes_data['StratificationCategory1'].isin(['Sex', 'Race/Ethnicity'])]\n",
    "\n",
    "# Separate the age and gender data into two different datasets\n",
    "race_data = diabetes_data[diabetes_data['StratificationCategory1'] == 'Race/Ethnicity']\n",
    "sex_data = diabetes_data[diabetes_data['StratificationCategory1'] == 'Sex']\n",
    "\n",
    "# Merge the two datasets on common keys to align age groups with gender entries\n",
    "merged_data = pd.merge(\n",
    "    race_data, \n",
    "    sex_data, \n",
    "    on=['YearStart', 'LocationAbbr', 'LocationDesc', 'DataSource', 'Topic', 'Question', 'DataValueType'],\n",
    "    suffixes=('_race', '_sex')\n",
    ")\n",
    "\n",
    "# Pivot the table to get a better structure for plotting\n",
    "pivot_table = merged_data.pivot_table(\n",
    "    index='Stratification1_race',\n",
    "    columns='Stratification1_sex',\n",
    "    values='DataValue_sex',\n",
    "    aggfunc='mean'\n",
    ")\n",
    "\n",
    "# Convert the pivot table to a format suitable for Plotly\n",
    "plotly_data = pivot_table.reset_index().melt(id_vars='Stratification1_race', var_name='Gender', value_name='Prevalence')\n",
    "\n",
    "# Create the interactive heatmap\n",
    "fig = px.imshow(\n",
    "    pivot_table,\n",
    "    labels=dict(x=\"Gender\", y=\"Age Group\", color=\"Prevalence (%)\"),\n",
    "    x=pivot_table.columns,\n",
    "    y=pivot_table.index,\n",
    "    text_auto=True,\n",
    "    title=\"Diabetes Prevalence by Gender Across Age Groups\"\n",
    ")\n",
    "\n",
    "fig.update_layout(\n",
    "    autosize=False,\n",
    "    width=800, \n",
    "    height=900  \n",
    ")\n",
    "\n",
    "fig.update_xaxes(side=\"bottom\")\n",
    "fig.show()"
   ]
  },
  {
   "cell_type": "markdown",
   "id": "4f1f01d5-6bf0-418c-898b-ec0d745de865",
   "metadata": {},
   "source": [
    "The heatmap illustrates diabetes prevalence by gender across various ethnic groups. It reveals that within every ethnic category, males have a higher prevalence of diabetes than females. The differences in prevalence rates between genders are relatively consistent across ethnicities, though the magnitude of these differences varies.\n",
    "\n",
    "For American Indian or Alaska Native, non-Hispanic individuals, the prevalence in males is marginally higher than in females, with males at approximately 10.83% compared to females at about 9.66%. The Asian, non-Hispanic group shows a similar trend, with males having a prevalence of around 11.18% while females are at roughly 9.77%. Non-Hispanic Black males exhibit a prevalence of 11.48%, which is higher than that of their female counterparts at 10.59%. Hawaiian or Pacific Islander, non-Hispanic males show the most considerable difference, with a prevalence of 12.44%, significantly higher than the 10.80% seen in females.\n",
    "\n",
    "Hispanic, Multiracial, and White, non-Hispanic groups all show a consistent pattern with higher diabetes prevalence in males than in females. For Hispanics, it is approximately 11.10% in males versus 10.02% in females; for Multiracial individuals, about 11.27% in males compared to 10.09% in females; and for White, non-Hispanics, around 11.03% in males against 10.00% in females.\n",
    "\n",
    "The heatmap reinforces the importance of gender consideration in addressing and managing diabetes prevalence, as well as the need for culturally sensitive approaches given the variability across different ethnic groups."
   ]
  }
 ],
 "metadata": {
  "kernelspec": {
   "display_name": "Python 3 (ipykernel)",
   "language": "python",
   "name": "python3"
  },
  "language_info": {
   "codemirror_mode": {
    "name": "ipython",
    "version": 3
   },
   "file_extension": ".py",
   "mimetype": "text/x-python",
   "name": "python",
   "nbconvert_exporter": "python",
   "pygments_lexer": "ipython3",
   "version": "3.11.5"
  }
 },
 "nbformat": 4,
 "nbformat_minor": 5
}
